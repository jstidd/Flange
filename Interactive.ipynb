{
 "cells": [
  {
   "cell_type": "code",
   "execution_count": 1,
   "metadata": {
    "collapsed": false
   },
   "outputs": [],
   "source": [
    "%matplotlib inline\n",
    "%load_ext autoreload\n",
    "%autoreload 2"
   ]
  },
  {
   "cell_type": "code",
   "execution_count": 66,
   "metadata": {
    "collapsed": false
   },
   "outputs": [],
   "source": [
    "import matplotlib.pyplot as plt\n",
    "from matplotlib import animation, rc\n",
    "import numpy as np\n",
    "from random import randint\n",
    "\n",
    "from ipywidgets import widgets\n",
    "from IPython.display import display"
   ]
  },
  {
   "cell_type": "code",
   "execution_count": 3,
   "metadata": {
    "collapsed": true
   },
   "outputs": [],
   "source": [
    "from flange.actions import *\n",
    "from flange.combiners import *\n",
    "from flange.conditions import *\n",
    "from flange.graphs import *\n",
    "from flange.locations import *\n",
    "from flange.roots import *\n",
    "from flange.runtime import *\n",
    "\n",
    "%aimport flange.actions\n",
    "%aimport flange.combiners\n",
    "%aimport flange.conditions\n",
    "%aimport flange.graphs\n",
    "%aimport flange.locations\n",
    "%aimport flange.roots\n",
    "%aimport flange.runtime"
   ]
  },
  {
   "cell_type": "code",
   "execution_count": 121,
   "metadata": {
    "collapsed": false,
    "scrolled": true
   },
   "outputs": [
    {
     "name": "stdout",
     "output_type": "stream",
     "text": [
      "28\n",
      "27\n",
      "26\n",
      "25\n",
      "26\n",
      "27\n",
      "28\n",
      "29\n",
      "30\n",
      "31\n",
      "32\n"
     ]
    }
   ],
   "source": [
    "import traitlets\n",
    "\n",
    "def on_value_change(change):\n",
    "    print(change['new'])\n",
    "\n",
    "int_range = widgets.IntSlider(continuous_update=True)\n",
    "int_range.observe(on_value_change, names='value')\n",
    "#display(int_range)\n",
    "\n",
    "play = widgets.Play(value=0, min=0, step=1)\n",
    "play.observe(on_value_change, names=\"value\")\n",
    "#display(play)\n",
    "\n",
    "link = widgets.jslink((play, 'value'), (int_range, 'value'))\n",
    "link = traitlets.link((play, 'value'), (int_range, 'value'))\n",
    "box = widgets.HBox([play, int_range])\n",
    "display(box)\n"
   ]
  },
  {
   "cell_type": "code",
   "execution_count": 122,
   "metadata": {
    "collapsed": false
   },
   "outputs": [],
   "source": [
    "link.updating = True"
   ]
  },
  {
   "cell_type": "code",
   "execution_count": 20,
   "metadata": {
    "collapsed": false,
    "scrolled": false
   },
   "outputs": [],
   "source": [
    "g = None\n",
    "src = None\n",
    "prior = None\n",
    "\n",
    "def init(b=None):\n",
    "    global g, src, prior\n",
    "    g = nx.barbell_graph(3, 2)\n",
    "    src = flange.wrap(g)\n",
    "    prior = None\n",
    "\n",
    "def modify():\n",
    "    id = len(g.nodes()) + 1\n",
    "    g.add_node(id)\n",
    "    \n",
    "    g.add_edge(id, randint(0, len(g.nodes())))\n",
    "    g.add_edge(id, randint(0, len(g.nodes())))\n",
    "    \n",
    "def layout():\n",
    "    global prior\n",
    "    global src\n",
    "    g = src()\n",
    "    pos=nx.spring_layout(g, iterations=10, pos=prior)\n",
    "    prior = pos\n",
    "    fig, ax = plt.subplots(1,1)\n",
    "    nx.draw(g, pos=pos, ax=ax)\n",
    "    nx.draw_networkx_labels(g, pos=pos, ax=ax)\n",
    "    return fig"
   ]
  },
  {
   "cell_type": "code",
   "execution_count": 123,
   "metadata": {
    "collapsed": false,
    "scrolled": false
   },
   "outputs": [
    {
     "data": {
      "image/png": "[encoded data removed]",
      "text/plain": [
       "<matplotlib.figure.Figure at 0x111d4b780>"
      ]
     },
     "metadata": {},
     "output_type": "display_data"
    }
   ],
   "source": [
    "def redraw(b=None):\n",
    "    #if randint(0, 10) > 5: modify()\n",
    "    fig = layout()\n",
    "    IPython.display.clear_output(wait=True)\n",
    "    #display(fig)\n",
    "     \n",
    "        \n",
    "init()\n",
    "redraw()\n",
    "int_range = widgets.IntSlider(continuous_update=True)\n",
    "int_range.observe(redraw, names='value')        \n",
    "display(int_range)\n",
    "\n",
    "# play = widgets.Play(value=0, min=0, step=1)\n",
    "# play.observe(on_value_change, names=\"value\")\n",
    "\n",
    "# link = widgets.jslink((play, 'value'), (int_range, 'value'))\n",
    "# box = widgets.HBox([play, int_range])\n",
    "# display(box)"
   ]
  },
  {
   "cell_type": "code",
   "execution_count": 120,
   "metadata": {
    "collapsed": true
   },
   "outputs": [],
   "source": [
    "modify()"
   ]
  },
  {
   "cell_type": "code",
   "execution_count": null,
   "metadata": {
    "collapsed": true
   },
   "outputs": [],
   "source": []
  }
 ],
 "metadata": {
  "anaconda-cloud": {},
  "kernelspec": {
   "display_name": "Python [conda env:py35]",
   "language": "python",
   "name": "conda-env-py35-py"
  },
  "language_info": {
   "codemirror_mode": {
    "name": "ipython",
    "version": 3
   },
   "file_extension": ".py",
   "mimetype": "text/x-python",
   "name": "python",
   "nbconvert_exporter": "python",
   "pygments_lexer": "ipython3",
   "version": "3.5.2"
  },
  "widgets": {
   "state": {
    "0df1826cc5984b3286a977081136d07b": {
     "views": [
      {
       "cell_index": 4
      }
     ]
    },
    "155fbb29a5334ba097dd3bc130f9997c": {
     "views": [
      {
       "cell_index": 5
      }
     ]
    },
    "1c2aaefe816c47e69f5c38e9adf34214": {
     "views": [
      {
       "cell_index": 5
      }
     ]
    },
    "201c92ac848d406dbf54ac032b07f139": {
     "views": [
      {
       "cell_index": 6
      }
     ]
    },
    "23ae9d33da3641bd86bb2f675cbbfde8": {
     "views": [
      {
       "cell_index": 6
      }
     ]
    },
    "2b6ad6a220c94774878628a7228a8365": {
     "views": [
      {
       "cell_index": 8
      }
     ]
    },
    "38616c40ec014f59a05db762b44c2936": {
     "views": [
      {
       "cell_index": 5
      }
     ]
    },
    "3d288f1c7d904c3ba689ffa959ab8941": {
     "views": [
      {
       "cell_index": 3
      }
     ]
    },
    "502db646350c43a6919e6327b195b63a": {
     "views": [
      {
       "cell_index": 5
      }
     ]
    },
    "55e489706cd24f41a9ac8f8eb2f7e0b2": {
     "views": [
      {
       "cell_index": 5
      }
     ]
    },
    "62c31aa18d284e80b05233d0927b2213": {
     "views": [
      {
       "cell_index": 4
      }
     ]
    },
    "6b80cc74e23942b8a757792ee1aad77d": {
     "views": [
      {
       "cell_index": 5
      }
     ]
    },
    "7bd19dd394d145f88f62cdbc7cb3825d": {
     "views": [
      {
       "cell_index": 5
      }
     ]
    },
    "8daea931b60749b3807c703a774c762e": {
     "views": [
      {
       "cell_index": 4
      }
     ]
    },
    "9ef44a16abfb49fdb9e88bc556989d7f": {
     "views": [
      {
       "cell_index": 5
      }
     ]
    },
    "b01909de3e884fed8163096be50b5e2c": {
     "views": [
      {
       "cell_index": 5
      }
     ]
    },
    "bba94b4e6ab04c08b7f2b4bdc35d8eb8": {
     "views": [
      {
       "cell_index": 4
      }
     ]
    },
    "db73e2d221604f3aa12cb27f2f0e1f9b": {
     "views": [
      {
       "cell_index": 5
      }
     ]
    },
    "f60b0cf7be094c209fac7cd360dd28c2": {
     "views": [
      {
       "cell_index": 4
      }
     ]
    }
   },
   "version": "1.2.0"
  }
 },
 "nbformat": 4,
 "nbformat_minor": 1
}
