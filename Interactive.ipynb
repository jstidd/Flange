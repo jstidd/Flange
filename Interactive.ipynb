{
 "cells": [
  {
   "cell_type": "code",
   "execution_count": 78,
   "metadata": {
    "collapsed": false
   },
   "outputs": [
    {
     "name": "stdout",
     "output_type": "stream",
     "text": [
      "The autoreload extension is already loaded. To reload it, use:\n",
      "  %reload_ext autoreload\n"
     ]
    }
   ],
   "source": [
    "%matplotlib inline\n",
    "%load_ext autoreload\n",
    "%autoreload 2"
   ]
  },
  {
   "cell_type": "code",
   "execution_count": 132,
   "metadata": {
    "collapsed": false
   },
   "outputs": [],
   "source": [
    "import matplotlib.pyplot as plt\n",
    "from matplotlib import animation, rc\n",
    "import numpy as np\n",
    "\n",
    "from ipywidgets import widgets\n",
    "from IPython.display import HTML\n",
    "import IPython.display"
   ]
  },
  {
   "cell_type": "code",
   "execution_count": 5,
   "metadata": {
    "collapsed": true
   },
   "outputs": [],
   "source": [
    "from flange.actions import *\n",
    "from flange.combiners import *\n",
    "from flange.conditions import *\n",
    "from flange.graphs import *\n",
    "from flange.locations import *\n",
    "from flange.roots import *\n",
    "from flange.runtime import *\n",
    "\n",
    "%aimport flange.actions\n",
    "%aimport flange.combiners\n",
    "%aimport flange.conditions\n",
    "%aimport flange.graphs\n",
    "%aimport flange.locations\n",
    "%aimport flange.roots\n",
    "%aimport flange.runtime"
   ]
  },
  {
   "cell_type": "code",
   "execution_count": 141,
   "metadata": {
    "collapsed": false,
    "scrolled": false
   },
   "outputs": [],
   "source": [
    "src = flange.graph(\"dynamic\")\n",
    "\n",
    "def layout():\n",
    "    g = src()\n",
    "    pos=nx.spring_layout(g)\n",
    "    fig, ax = plt.subplots(1,1)\n",
    "    nx.draw(g, pos=pos, ax=ax)\n",
    "    nx.draw_networkx_labels(g, pos=pos, ax=ax)\n",
    "    return fig"
   ]
  },
  {
   "cell_type": "code",
   "execution_count": 142,
   "metadata": {
    "collapsed": false,
    "scrolled": false
   },
   "outputs": [
    {
     "data": {
      "image/png": "[encoded data removed]",
      "text/plain": [
       "<matplotlib.figure.Figure at 0x1114086d8>"
      ]
     },
     "metadata": {},
     "output_type": "display_data"
    }
   ],
   "source": [
    "def redraw(b=None):\n",
    "    fig = layout()\n",
    "    display.clear_output(wait=True)\n",
    "    #display.display(fig)\n",
    "\n",
    "button = widgets.Button(description=\"Step\")\n",
    "button.on_click(redraw)\n",
    "display.display(button)"
   ]
  },
  {
   "cell_type": "code",
   "execution_count": null,
   "metadata": {
    "collapsed": true
   },
   "outputs": [],
   "source": []
  }
 ],
 "metadata": {
  "anaconda-cloud": {},
  "kernelspec": {
   "display_name": "Python [conda env:py35]",
   "language": "python",
   "name": "conda-env-py35-py"
  },
  "language_info": {
   "codemirror_mode": {
    "name": "ipython",
    "version": 3
   },
   "file_extension": ".py",
   "mimetype": "text/x-python",
   "name": "python",
   "nbconvert_exporter": "python",
   "pygments_lexer": "ipython3",
   "version": "3.5.2"
  },
  "widgets": {
   "state": {
    "80b2a91738cf4fcdb0bdc9b3d4540aef": {
     "views": [
      {
       "cell_index": 4
      }
     ]
    }
   },
   "version": "1.2.0"
  }
 },
 "nbformat": 4,
 "nbformat_minor": 1
}
