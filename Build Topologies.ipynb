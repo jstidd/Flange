{
 "cells": [
  {
   "cell_type": "code",
   "execution_count": 1,
   "metadata": {
    "collapsed": false
   },
   "outputs": [],
   "source": [
    "from unis.models import *\n",
    "from unis.runtime import Runtime\n",
    "from unis.rest import UnisReferenceError\n",
    "from unis.models.lists import UnisCollection\n",
    "import itertools"
   ]
  },
  {
   "cell_type": "code",
   "execution_count": 2,
   "metadata": {
    "collapsed": false
   },
   "outputs": [],
   "source": [
    "def commit(target):\n",
    "    collections = [\"ports\", \"nodes\", \"links\", \"paths\", \"networks\", \n",
    "                   \"domains\", \"topologies\", \"exnodes\", \"extents\"]\n",
    "    unordered = filter(lambda x: x not in collections, target.collections)\n",
    "    collections.extend(unordered)\n",
    "    for collection in collections:\n",
    "        for item in getattr(target, collection):\n",
    "            item.commit()\n"
   ]
  },
  {
   "cell_type": "code",
   "execution_count": 3,
   "metadata": {
    "collapsed": false
   },
   "outputs": [],
   "source": [
    "def node(rt, name):\n",
    "    node = Node({\"name\": name})\n",
    "    rt.insert(node)\n",
    "    return node\n",
    "\n",
    "def port(rt, node):\n",
    "    port = Port({\"name\": \":\".join([node.name, \"port1\"])})\n",
    "    rt.insert(port)\n",
    "    node.ports = [port]\n",
    "    return port\n",
    "\n",
    "def link(rt, mapping):\n",
    "    left = next(rt.ports.where({\"name\": \":\".join([mapping[0], \"port1\"])}))\n",
    "    right = next(rt.ports.where({\"name\": \":\".join([mapping[1], \"port1\"])}))\n",
    "    link = Link({\"name\": \"--\".join([left.name, right.name]), \n",
    "                 \"directed\": False, \n",
    "                 \"endpoints\": [left, right]})\n",
    "    rt.insert(link)\n",
    "    return link\n",
    "    \n",
    "def domain(rt, name):\n",
    "    nodes = list(rt.nodes.where(lambda x: x.name == name))\n",
    "    ports = list(rt.ports.where(lambda x: x.name.startswith(name)))\n",
    "    links = list(rt.links.where(lambda x: x.endpoints[0].name.startswith(name)))\n",
    "    domain = Domain({\"name\": name, \"nodes\": nodes, \"ports\": ports, \"links\":links})\n",
    "    rt.insert(domain)\n",
    "    return domain\n",
    "\n",
    "def topology(rt, name, ports, nodes, links, domains):\n",
    "    topo = Topology({\"name\": name, \"ports\": ports, \n",
    "                     \"nodes\": nodes, \"links\": links, \n",
    "                     \"domains\": domains})\n",
    "    rt.insert(topo)"
   ]
  },
  {
   "cell_type": "code",
   "execution_count": 4,
   "metadata": {
    "collapsed": true
   },
   "outputs": [],
   "source": [
    "def osiris(url):\n",
    "    with Runtime(url) as rt:\n",
    "        domain_names = [\"IU\", \"WSU\", \"MSU\", \"CHIC\", \"SALT\", \n",
    "                        \"SC16\", \"IU-Crest\", \"UMich\", \"Cloudlab\"]\n",
    "        link_map = [(\"IU\", \"CHIC\"), (\"UMich\", \"CHIC\"), (\"WSU\", \"CHIC\"), \n",
    "                    (\"MSU\", \"CHIC\"), (\"CHIC\", \"SALT\"), (\"Cloudlab\", \"SALT\"), \n",
    "                    (\"SC16\", \"SALT\"), (\"SC16\", \"UMich\"), (\"SC16\", \"IU-Crest\")]\n",
    "        nodes = [node(rt, d) for d in domain_names]\n",
    "        ports = [port(rt, n) for n in nodes]\n",
    "        links = [link(rt, l) for l in link_map]\n",
    "        domains = [domain(rt, d) for d in domain_names]\n",
    "        topology(rt, \"OSiRIS\", nodes, ports, links, domains)\n",
    "        commit(rt)"
   ]
  },
  {
   "cell_type": "code",
   "execution_count": 5,
   "metadata": {
    "collapsed": true
   },
   "outputs": [],
   "source": [
    "def ring_spur(url, ring, spurs):\n",
    "    def name(link, spur): return \"Node-{0}-{1}\".format(link, spur)\n",
    "    \n",
    "    node_names = [name(i, j)\n",
    "                  for j in range(spurs)\n",
    "                  for i in range(ring)]\n",
    "    ring_links = [(name(i,0), name((i+1)%ring, 0))\n",
    "                  for i in range(ring)]\n",
    "    spur_links = [(name(i,j), name(i, 0))\n",
    "                  for j in range(1, spurs)\n",
    "                  for i in range(ring)]\n",
    "    \n",
    "    link_map = list(itertools.chain(ring_links, spur_links))\n",
    "\n",
    "    with Runtime(url) as rt:\n",
    "        nodes = [node(rt, d) for d in node_names]\n",
    "        ports = [port(rt, n) for n in nodes]\n",
    "        links = [link(rt, l) for l in link_map]\n",
    "        domain = Domain({\"name\": \"ring-domain\", \"nodes\": nodes, \"ports\": ports, \"links\": links})\n",
    "        rt.insert(domain)\n",
    "        topology(rt, \"ring\", nodes, ports, [], [domain])\n",
    "        commit(rt)\n",
    "        "
   ]
  },
  {
   "cell_type": "code",
   "execution_count": 36,
   "metadata": {
    "collapsed": false
   },
   "outputs": [
    {
     "name": "stderr",
     "output_type": "stream",
     "text": [
      "usage: __main__.py [-h] [-t {osiris,ring}] [-r RING] [-s SPUR] s\n",
      "__main__.py: error: unrecognized arguments: -f /Users/josephcottam/.ipython/profile_default/security/kernel-ce16def0-1816-47ff-8ee7-8fdeca83ec51.json --profile-dir /Users/josephcottam/.ipython/profile_default\n"
     ]
    },
    {
     "ename": "SystemExit",
     "evalue": "2",
     "output_type": "error",
     "traceback": [
      "An exception has occurred, use %tb to see the full traceback.\n",
      "\u001b[0;31mSystemExit\u001b[0m\u001b[0;31m:\u001b[0m 2\n"
     ]
    },
    {
     "name": "stderr",
     "output_type": "stream",
     "text": [
      "To exit: use 'exit', 'quit', or Ctrl-D.\n"
     ]
    }
   ],
   "source": [
    "def main():\n",
    "    import sys\n",
    "    import argparse\n",
    "    \n",
    "    parser = argparse.ArgumentParser(description=\"Topology builder for test topologies in UNIS\")\n",
    "    parser.add_argument('unis', metavar='s', \n",
    "                        help=\"Address of the UNIS to connect to (must include http://)\")\n",
    "    parser.add_argument('-t', '--topology', choices=[\"osiris\", \"ring\"], default=\"osiris\", required=False,\n",
    "                        help=\"Topology name to build.\")\n",
    "    parser.add_argument('-r', \"--ring\", default=10, type=int,\n",
    "                        help=\"Circumferernce of a ring to build (for ring only)\")\n",
    "    parser.add_argument('-s', \"--spur\", default=3, type=int,\n",
    "                        help=\"Length of spurs to build (for ring only)\")\n",
    "\n",
    "    args = parser.parse_args(sys.argv)\n",
    "    \n",
    "    if args.topology == \"osiris\" or topo == \"*\":\n",
    "        osiris(args.unis)\n",
    "        \n",
    "    if args.topology == \"osiris\" or topo == \"*\":\n",
    "        ring_spur(args.unis, args.ring, args.spur)\n",
    "    \n",
    "    \n",
    "if __name__ == \"__main__\": \n",
    "    main()"
   ]
  }
 ],
 "metadata": {
  "kernelspec": {
   "display_name": "Python 3",
   "language": "python",
   "name": "python3"
  },
  "language_info": {
   "codemirror_mode": {
    "name": "ipython",
    "version": 3
   },
   "file_extension": ".py",
   "mimetype": "text/x-python",
   "name": "python",
   "nbconvert_exporter": "python",
   "pygments_lexer": "ipython3",
   "version": "3.3.5"
  }
 },
 "nbformat": 4,
 "nbformat_minor": 0
}
