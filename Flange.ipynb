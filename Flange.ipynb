{
 "cells": [
  {
   "cell_type": "code",
   "execution_count": 27,
   "metadata": {
    "collapsed": true
   },
   "outputs": [],
   "source": [
    "%matplotlib inline"
   ]
  },
  {
   "cell_type": "code",
   "execution_count": 121,
   "metadata": {
    "collapsed": true
   },
   "outputs": [],
   "source": [
    "import unittest\n",
    "from unis.models import *\n",
    "from unis.runtime import Runtime\n",
    "import networkx as nx\n",
    "import itertools"
   ]
  },
  {
   "cell_type": "code",
   "execution_count": 2,
   "metadata": {
    "collapsed": false
   },
   "outputs": [],
   "source": [
    "def test(case=None):\n",
    "    import sys\n",
    "    if case is None:\n",
    "        module = sys.modules[__name__]\n",
    "        suite = unittest.TestLoader().loadTestsFromModule(module)\n",
    "    else:\n",
    "        suite = unittest.TestLoader().loadTestsFromTestCase(case)\n",
    "    unittest.TextTestRunner().run(suite)"
   ]
  },
  {
   "cell_type": "code",
   "execution_count": 3,
   "metadata": {
    "collapsed": false
   },
   "outputs": [],
   "source": [
    "class FlangeTree(object):\n",
    "    def __call__(self): \n",
    "        raise RuntimeError(\"Must override the call method\")\n",
    "\n",
    "class ActionFailureError(RuntimeError): \n",
    "    \"Inidicates rule action was taken BUT the test still fails\"\n",
    "    pass\n",
    "\n",
    "        \n",
    "def update(graph, values): pass"
   ]
  },
  {
   "cell_type": "code",
   "execution_count": 4,
   "metadata": {
    "collapsed": false
   },
   "outputs": [],
   "source": [
    "\n",
    "class rule(FlangeTree): \n",
    "    \"\"\"\n",
    "    A test/action pair. Executes the action if the rule fails.\n",
    "    Returns the result of action (if taken) or the original arguments (if no action taken).\n",
    "    \n",
    "    The result of the action must be a list of things of the same type as the args.\n",
    "    This makes the test/action/retest work properly.\n",
    "    \"\"\"\n",
    "\n",
    "    def __init__(self, test, action):\n",
    "        self.test = test\n",
    "        self.action = action\n",
    "        \n",
    "    def __call__(self, *args):\n",
    "        rslt=args\n",
    "        if not self.test(*args): \n",
    "            rslt = self.action(*args)\n",
    "            if not self.test(*rslt):\n",
    "                raise ActionFailureError()\n",
    "            return rslt   \n",
    "        return rslt\n",
    "            \n",
    "class Test_rule(unittest.TestCase):\n",
    "    def test_action_pass(self):\n",
    "        c = rule(lambda x: 4<x[0], lambda x: [[6]])\n",
    "        self.assertEqual(c([3]), [[6]])\n",
    "\n",
    "    def test_simple_pass(self):\n",
    "        c = rule(lambda x: 4>3, lambda x: [[3]])\n",
    "        self.assertEqual(c(5), (5,))\n",
    "        \n",
    "    def test_double_fail(self):\n",
    "        c = rule(lambda *x: 4<3, lambda *x: [4])\n",
    "        self.assertRaises(ActionFailureError, c)\n",
    "        "
   ]
  },
  {
   "cell_type": "code",
   "execution_count": 5,
   "metadata": {
    "collapsed": true
   },
   "outputs": [],
   "source": [
    "class switch(object):\n",
    "    \"A rule that always tests to True.\"\n",
    "    def default(action): return rule(lambda *x: True, action)\n",
    "\n",
    "    \"Tests rules in order. Does the action associated with the first item test that passes.\"\n",
    "    def __init__(self, *rules):\n",
    "        self.rules = rules\n",
    "\n",
    "    def __call__(self):\n",
    "        for rule in self.rules:\n",
    "            if rule.test():\n",
    "                return rule.action()\n",
    "        raise RuntimeError(\"No action take in switch\")\n",
    "\n",
    "class Test_switch(unittest.TestCase):\n",
    "    FALSE = lambda *x: False\n",
    "    TRUE = lambda *x: True\n",
    "    \n",
    "    def test_default(self):\n",
    "        s = switch(rule(self.FALSE, lambda *x: None), \n",
    "                   rule(self.FALSE, lambda *x: None), \n",
    "                   rule(self.FALSE, lambda *x: None), \n",
    "                   switch.default(lambda *x: 10))\n",
    "        self.assertEqual(s(), 10)\n",
    "        \n",
    "    def test_intermediate(self):\n",
    "        s = switch(rule(self.FALSE, lambda *x: None), \n",
    "                   rule(self.TRUE, lambda *x: 6), \n",
    "                   rule(self.FALSE, lambda *x: None), \n",
    "                   switch.default(lambda *x: 10))\n",
    "        self.assertEqual(s(), 6)\n",
    "        \n",
    "    def test_default(self):\n",
    "        c = switch.default(lambda *x: 3)\n",
    "        self.assertEqual(c.test(), True)\n",
    "    \n"
   ]
  },
  {
   "cell_type": "code",
   "execution_count": 13,
   "metadata": {
    "collapsed": false
   },
   "outputs": [],
   "source": [
    "class unis(object):\n",
    "    \"Retrieves a graph from a UNIS server.\"\n",
    "    default_unis = \"http://192.168.100.200:8888\"\n",
    "    _runtime_cache = {}\n",
    "    \n",
    "    def __init__(self, ref=\"*\", source=default_unis):\n",
    "        self.source = source\n",
    "        self.ref = ref\n",
    "\n",
    "    def __call__(self):\n",
    "        rt = self.cached_connection(self.source)\n",
    "        \n",
    "        #TODO: This is a bare-bones buildling of the graph model\n",
    "        if self.ref == \"*\": topology = rt\n",
    "        else: topology= list(rt.topologies.where({\"id\": self.ref}))[0]\n",
    "\n",
    "        g = nx.Graph() #TODO: Digraph?\n",
    "        for port in topology.ports:\n",
    "            g.add_node(port)\n",
    "        for link in topology.links:\n",
    "            g.add_edge(link.endpoints[0], link.endpoints[1], object=link)\n",
    "        \n",
    "        return g\n",
    "    \n",
    "    @classmethod\n",
    "    def cached_connection(cls, source):\n",
    "        rt = cls._runtime_cache.get(source, Runtime(source))\n",
    "        cls._runtime_cache[source] = rt\n",
    "        return rt\n",
    "\n",
    "class Test_unis(unittest.TestCase):\n",
    "    explicit_host = \"http://192.168.100.200:8888\"\n",
    "    \n",
    "    def setUpClass():\n",
    "        unis._runtime_cache = {}\n",
    "        print(\"Cleared unis Runtime cache\")\n",
    "\n",
    "    def test_implict_host(self):\n",
    "        b = unis()\n",
    "        g = b()\n",
    "        self.assertEqual(len(g.nodes()), 2)\n",
    "        self.assertEqual(len(g.edges()), 1)\n",
    "\n",
    "    def test_all_implicit(self):\n",
    "        b = unis(source=self.explicit_host)\n",
    "        g = b()\n",
    "        self.assertEqual(len(g.nodes()), 2)\n",
    "        self.assertEqual(len(g.edges()), 1)\n",
    "        \n",
    "    def test_all_explicit(self):\n",
    "        b = unis(\"*\", self.explicit_host)\n",
    "        g = b()\n",
    "        self.assertEqual(len(g.nodes()), 2)\n",
    "        self.assertEqual(len(g.edges()), 1)\n",
    "        \n",
    "    def test_named(self):\n",
    "        b = unis(\"test\", self.explicit_host)\n",
    "        g = b()\n",
    "        self.assertEqual(len(g.nodes()), 2)\n",
    "        self.assertEqual(len(g.edges()), 1)"
   ]
  },
  {
   "cell_type": "code",
   "execution_count": 7,
   "metadata": {
    "collapsed": false
   },
   "outputs": [],
   "source": [
    "class GroupCondition(FlangeTree):\n",
    "    def __init__(self, predicate, selector, graph): \n",
    "        self.predicate = predicate\n",
    "        self.selector = selector\n",
    "        self.graph = graph\n",
    "    \n",
    "    def __call__(self, *args):\n",
    "        g = self.graph()\n",
    "        raw_items = self.selector(g)\n",
    "        passing_items = [x for x in raw_items if self.predicate(x, g)]\n",
    "        return self._test(passing_items, raw_items)\n",
    "    \n",
    "    def _test(self, passing_items, raw_items): \n",
    "        raise Error(\"Not implemented\")\n",
    "    \n",
    "class exists(GroupCondition):\n",
    "    def _test(self,  passing_items, raw_items): \n",
    "        return len(passing_items) > 0\n",
    "    \n",
    "class exactlyOne(GroupCondition):\n",
    "    def _test(self, passing_items, raw_items): \n",
    "        return len(passing_items) == 1\n",
    "    \n",
    "class all(GroupCondition):\n",
    "    def _test(self, passing_items, raw_items): \n",
    "        return len(passing_items) == len(raw_items)\n",
    "\n",
    "class most(GroupCondition):\n",
    "    def _test(self, passing_items, raw_items): \n",
    "        return len(passing_items) >= len(raw_items)//2\n",
    "    \n",
    "class TestGroupConditions(unittest.TestCase):\n",
    "    def test_exists_pass(self):\n",
    "        t = exists(lambda n, g: g.degree(n) > 0, \n",
    "                   lambda g: g.nodes(), \n",
    "                   unis())\n",
    "        self.assertTrue(t())\n",
    "        \n",
    "    def test_exists_fail(self):\n",
    "        t = exists(lambda n, g: g.degree(n) == 0, \n",
    "                   lambda g: g.nodes(), \n",
    "                   unis())\n",
    "        self.assertFalse(t())\n",
    "\n",
    "    def test_exactlyone_pass(self):\n",
    "        t = exists(lambda n, g: n.id == \"port1\", \n",
    "                   lambda g: g.nodes(), \n",
    "                   unis())\n",
    "        self.assertTrue(t())\n",
    "        \n",
    "    def test_exactlyOne_fail(self):\n",
    "        t = exactlyOne(lambda n, g: g.degree(n) == 0, \n",
    "                   lambda g: g.nodes(), \n",
    "                   unis())\n",
    "        self.assertFalse(t())\n",
    "        \n",
    "        t = exactlyOne(lambda n, g: g.degree(n) > 0, \n",
    "                   lambda g: g.nodes(), \n",
    "                   unis())\n",
    "        self.assertFalse(t())\n",
    "            \n",
    "    def test_all_pass(self):\n",
    "        t = all(lambda n, g: g.degree(n) > 0, \n",
    "                   lambda g: g.nodes(), \n",
    "                   unis())\n",
    "        self.assertTrue(t())\n",
    "\n",
    "    def test_all_fail(self):\n",
    "        t = all(lambda n, g: n.id == \"port1\", \n",
    "                   lambda g: g.nodes(), \n",
    "                   unis())\n",
    "        self.assertFalse(t())\n",
    "\n",
    "    \n",
    "    def test_most_pass(self): \n",
    "        t = most(lambda n, g: n.id == \"port1\",\n",
    "                 lambda g: g.nodes(), \n",
    "                 unis())\n",
    "        self.assertTrue(t())\n",
    "        \n",
    "    def test_most_fail(self):\n",
    "        t = most(lambda n, g: n.id == \"port3\",\n",
    "                 lambda g: g.nodes(), \n",
    "                 unis())\n",
    "        self.assertFalse(t())\n",
    "\n"
   ]
  },
  {
   "cell_type": "code",
   "execution_count": 8,
   "metadata": {
    "collapsed": true
   },
   "outputs": [],
   "source": [
    "class place(FlangeTree):\n",
    "    def __init__(self, mod, at, graph):\n",
    "        self.mod = mod\n",
    "        self.at = at\n",
    "        self.graph = graph\n",
    "    \n",
    "    def __call__(self, *args):\n",
    "        g = self.graph()\n",
    "        position = self.at(g)\n",
    "        g2 = self.mod(position, g)\n",
    "        return g2\n",
    "\n",
    "class Test_place(unittest.TestCase):\n",
    "    def test_placement(self):\n",
    "        p = place(lambda positions, g: {n.id: \"modified\" for n in positions},\n",
    "                  lambda g: g.nodes(),\n",
    "                  unis())\n",
    "        self.assertEqual(p(), {\"port1\": \"modified\", \"port2\": \"modified\"})\n"
   ]
  },
  {
   "cell_type": "code",
   "execution_count": 117,
   "metadata": {
    "collapsed": false
   },
   "outputs": [],
   "source": [
    "def inside(selector, graph):\n",
    "    \"\"\"Given a graph and a selector, returns a list of links that make up the min cut\"\"\"\n",
    "    nodes = list(filter(selector, graph.nodes())) ## TODO -- More complex query here\n",
    "    synth = graph.subgraph(nodes) ## Get the subgraph indicated by the selector\n",
    "    nx.set_edge_attributes(synth, 'capacity', 1)\n",
    "\n",
    "    #outbound = graph.out_edges_iter(nodes)  -- Switch unis to directed graph, then use\n",
    "    #inbound = graph.in_edges_iter(nodes)\n",
    "    outbound = graph.edges_iter(nodes)\n",
    "    inbound = graph.edges_iter(nodes)\n",
    "\n",
    "\n",
    "    src = \"##SOURCE##\"\n",
    "    synth.add_node(src)\n",
    "    for edge in inbound:\n",
    "        synth.add_edge(src, edge[1], capacity=10)\n",
    "\n",
    "    sink = \"##SINK##\"\n",
    "    synth.add_node(sink)\n",
    "    for edge in outbound:\n",
    "        synth.add_edge(edge[0], sink, capacity=10)\n",
    "\n",
    "    cut_value, partition = nx.minimum_cut(synth, s=src, t=sink, capacity='capacity')\n",
    "    reachable, non_reachable = partition\n",
    "    \n",
    "    cutset = set()\n",
    "    for u, nbrs in ((n, synth[n]) for n in reachable):\n",
    "        cutset.update((u, v) for v in nbrs if v in non_reachable)\n",
    "    cut_value == sum(synth.edge[u][v]['capacity'] for (u, v) in cutset)\n",
    "    \n",
    "    return cutset\n",
    "\n",
    "class Test_inside(unittest.TestCase):\n",
    "    def test(self):\n",
    "        i = inside(lambda x: x, unis()())\n",
    "        r = {(e[0].id, e[1].id) for e in cut}\n",
    "        self.assertEqual(r, {(\"port1\", \"port2\")})"
   ]
  },
  {
   "cell_type": "code",
   "execution_count": 136,
   "metadata": {
    "collapsed": true
   },
   "outputs": [],
   "source": [
    "def around(selector, graph): \n",
    "    \"\"\"Given a graph and a selector, returns a list of links that go in or out of the selected nodes\"\"\"\n",
    "    nodes = list(filter(selector, graph.nodes())) ## TODO -- More complex query here\n",
    "    print(nodes)\n",
    "    outbound = graph.edges_iter(nodes)\n",
    "    inbound = graph.edges_iter(nodes)\n",
    "    return set(itertools.chain(outbound, inbound))\n",
    "\n",
    "class Test_around(unittest.TestCase):\n",
    "    def test(self):\n",
    "        i = around(lambda x: x.id == \"port1\", unis()())\n",
    "        r = {(e[0].id, e[1].id) for e in cut}\n",
    "        self.assertEqual(r, {(\"port1\", \"port2\")})"
   ]
  },
  {
   "cell_type": "code",
   "execution_count": null,
   "metadata": {
    "collapsed": true
   },
   "outputs": [],
   "source": [
    "def near(fn, selector, graph): pass\n",
    "def between(selector, graph): pass"
   ]
  },
  {
   "cell_type": "code",
   "execution_count": 116,
   "metadata": {
    "collapsed": false
   },
   "outputs": [
    {
     "name": "stderr",
     "output_type": "stream",
     "text": [
      "..................."
     ]
    },
    {
     "name": "stdout",
     "output_type": "stream",
     "text": [
      "Cleared unis Runtime cache\n"
     ]
    },
    {
     "name": "stderr",
     "output_type": "stream",
     "text": [
      "\n",
      "----------------------------------------------------------------------\n",
      "Ran 19 tests in 0.217s\n",
      "\n",
      "OK\n"
     ]
    }
   ],
   "source": [
    "test()"
   ]
  },
  {
   "cell_type": "code",
   "execution_count": 19,
   "metadata": {
    "collapsed": false
   },
   "outputs": [],
   "source": [
    "def populate(url):\n",
    "  with Runtime(url) as rt:\n",
    "    node1 = Node({\"id\": \"node1\"})\n",
    "    node2 = Node({\"id\": \"node2\"})\n",
    "    port1 = Port({\"id\": \"port1\"})\n",
    "    port2 = Port({\"id\": \"port2\"})\n",
    "    node1.ports.append(port1)\n",
    "    node2.ports.append(port2)\n",
    "    link1 = Link({\"id\": \"link1-2\", \"directed\": False, \"endpoints\": [port1, port2]})\n",
    "    topology = Topology({\"id\": \"test\", \"ports\" : [port1, port2], \"nodes\": [node1, node2], \"links\" : [link1]})\n",
    "    rt.insert(port1, commit=True)\n",
    "    rt.insert(port2, commit=True)\n",
    "    rt.insert(node1, commit=True)\n",
    "    rt.insert(node2, commit=True)\n",
    "    rt.insert(link1, commit=True)\n",
    "    rt.insert(topology, commit=True)"
   ]
  },
  {
   "cell_type": "code",
   "execution_count": 20,
   "metadata": {
    "collapsed": false
   },
   "outputs": [],
   "source": [
    "populate(\"http://192.168.100.200:8888\")"
   ]
  },
  {
   "cell_type": "code",
   "execution_count": null,
   "metadata": {
    "collapsed": true
   },
   "outputs": [],
   "source": []
  }
 ],
 "metadata": {
  "kernelspec": {
   "display_name": "Python 3",
   "language": "python",
   "name": "python3"
  },
  "language_info": {
   "codemirror_mode": {
    "name": "ipython",
    "version": 3
   },
   "file_extension": ".py",
   "mimetype": "text/x-python",
   "name": "python",
   "nbconvert_exporter": "python",
   "pygments_lexer": "ipython3",
   "version": "3.3.5"
  }
 },
 "nbformat": 4,
 "nbformat_minor": 0
}
