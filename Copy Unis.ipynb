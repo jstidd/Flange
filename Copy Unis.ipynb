{
 "cells": [
  {
   "cell_type": "code",
   "execution_count": 1,
   "metadata": {
    "collapsed": false
   },
   "outputs": [],
   "source": [
    "from unis.models import *\n",
    "from unis.runtime import Runtime\n",
    "from unis.rest import UnisReferenceError\n",
    "from unis.models.lists import UnisCollection"
   ]
  },
  {
   "cell_type": "code",
   "execution_count": 2,
   "metadata": {
    "collapsed": false
   },
   "outputs": [],
   "source": [
    "local = \"http://192.168.100.100:8888\"\n",
    "local_source = \"http://192.168.100.200:8888\"\n",
    "sushivan = \"http://149.160.232.188:8888\"\n",
    "dev = \"http://dev.crest.iu.edu:8888\""
   ]
  },
  {
   "cell_type": "code",
   "execution_count": 3,
   "metadata": {
    "collapsed": false
   },
   "outputs": [],
   "source": [
    "def runtime_copy(source, target):\n",
    "    for collection in source.collections:\n",
    "        for item in getattr(source, collection):\n",
    "            model = type(item)\n",
    "            copy = model(item.to_JSON())\n",
    "            target.insert(copy)\n",
    "\n",
    "def commit(target):\n",
    "    collections = [\"ports\", \"nodes\", \"links\", \"paths\", \"networks\", \"domains\", \"topologies\", \"exnodes\", \"extents\"]\n",
    "    unordered = filter(lambda x: x not in collections, target.collections)\n",
    "    collections.extend(unordered)\n",
    "    for collection in collections:\n",
    "        for item in getattr(target, collection):\n",
    "            print(\"Commiting\", type(item), item.id)\n",
    "            item.commit()\n",
    "\n",
    "def copy(source_url, target_url):\n",
    "    with Runtime(source_url) as source, Runtime(target_url) as target:\n",
    "        runtime_copy(source, target)\n",
    "        patch_refs(source, target)\n",
    "        commit(target)"
   ]
  },
  {
   "cell_type": "code",
   "execution_count": 4,
   "metadata": {
    "collapsed": true
   },
   "outputs": [],
   "source": [
    "def patch_collection_refs(source, target, collection):\n",
    "    try:\n",
    "        i = 0\n",
    "        while True:\n",
    "            try:\n",
    "                entry=collection[i]\n",
    "                i = i+1\n",
    "            except UnisReferenceError as exp:\n",
    "                print(exp.href)\n",
    "                src = source.find(exp.href)\n",
    "                print(\"Patching \", src.id)\n",
    "                dst=list(dst.ports.where({\"id\": p.id}))[0]\n",
    "                collection[i]=dst\n",
    "    except IndexError:\n",
    "        return\n",
    "    \n",
    "def patch_refs(source, target):\n",
    "    for collection in target.collections:\n",
    "        for item in getattr(target, collection):\n",
    "            for att in dir(item):\n",
    "                try:\n",
    "                    entry = item.__getattribute__(att)\n",
    "                    if isinstance(entry, UnisCollection):\n",
    "                        patch_collection_refs(source, target, entry)\n",
    "                except Exception as exp:\n",
    "                    print(\"Error: \", exp, item.id, type(item), att)"
   ]
  },
  {
   "cell_type": "code",
   "execution_count": 122,
   "metadata": {
    "collapsed": false
   },
   "outputs": [],
   "source": []
  },
  {
   "cell_type": "code",
   "execution_count": 121,
   "metadata": {
    "collapsed": false,
    "scrolled": true
   },
   "outputs": [
    {
     "name": "stdout",
     "output_type": "stream",
     "text": [
      "Commiting <class 'unis.models.models.Port'> 57d5a305b23436192f78c795\n",
      "Commiting <class 'unis.models.models.Port'> 57d5a305b23436192f78c794\n",
      "Commiting <class 'unis.models.models.Port'> 57d5a305b23436192f78c793\n",
      "Commiting <class 'unis.models.models.Port'> 57d5a305b23436192f78c77d\n",
      "Commiting <class 'unis.models.models.Port'> 57d5a305b23436192f78c773\n",
      "Commiting <class 'unis.models.models.Port'> 57d5a305b23436192f78c76c\n",
      "Commiting <class 'unis.models.models.Port'> 57d5a305b23436192f78c762\n",
      "Commiting <class 'unis.models.models.Port'> 57d5a305b23436192f78c758\n",
      "Commiting <class 'unis.models.models.Port'> 57d5a305b23436192f78c74e\n",
      "Commiting <class 'unis.models.models.Port'> 57d5a304b23436192f78c744\n",
      "Commiting <class 'unis.models.models.Node'> 57d5a305b23436192f78c78c\n",
      "Commiting <class 'unis.models.models.Node'> 57d5a305b23436192f78c78b\n",
      "Commiting <class 'unis.models.models.Node'> 57d5a305b23436192f78c78a\n",
      "Commiting <class 'unis.models.models.Node'> 57d5a305b23436192f78c77a\n",
      "Commiting <class 'unis.models.models.Node'> 57d5a305b23436192f78c770\n",
      "Commiting <class 'unis.models.models.Node'> 57d5a305b23436192f78c769\n",
      "Commiting <class 'unis.models.models.Node'> 57d5a305b23436192f78c75f\n",
      "Commiting <class 'unis.models.models.Node'> 57d5a305b23436192f78c755\n",
      "Commiting <class 'unis.models.models.Node'> 57d5a305b23436192f78c74b\n",
      "Commiting <class 'unis.models.models.Node'> 57d5a304b23436192f78c741\n",
      "Commiting <class 'unis.models.models.Link'> 57d5a305b23436192f78c783\n",
      "Commiting <class 'unis.models.models.Link'> 57d5a305b23436192f78c782\n",
      "Commiting <class 'unis.models.models.Link'> 57d5a305b23436192f78c781\n",
      "Commiting <class 'unis.models.models.Link'> 57d5a305b23436192f78c777\n",
      "Commiting <class 'unis.models.models.Link'> 57d5a305b23436192f78c766\n",
      "Commiting <class 'unis.models.models.Link'> 57d5a305b23436192f78c75c\n",
      "Commiting <class 'unis.models.models.Link'> 57d5a305b23436192f78c752\n",
      "Commiting <class 'unis.models.models.Link'> 57d5a304b23436192f78c748\n",
      "Commiting <class 'unis.models.models.Link'> 57d5a304b23436192f78c73e\n",
      "Commiting <class 'unis.models.models.Domain'> 57d5a305b23436192f78c780\n",
      "Commiting <class 'unis.models.models.Domain'> 57d5a305b23436192f78c776\n",
      "Commiting <class 'unis.models.models.Domain'> 57d5a305b23436192f78c76f\n",
      "Commiting <class 'unis.models.models.Domain'> 57d5a305b23436192f78c765\n",
      "Commiting <class 'unis.models.models.Domain'> 57d5a305b23436192f78c75b\n",
      "Commiting <class 'unis.models.models.Domain'> 57d5a305b23436192f78c751\n",
      "Commiting <class 'unis.models.models.Domain'> 57d5a304b23436192f78c747\n",
      "Commiting <class 'unis.models.models.Domain'> 57d5a304b23436192f78c73d\n",
      "Commiting <class 'unis.models.models.Topology'> 57d5a304b23436192f78c73c\n",
      "Commiting <class 'unis.models.models.Service'> ms_localhost.localdomain\n",
      "Commiting <class 'unis.models.models.Service'> ms_149-160-232-99.dhcp-bl.indiana.edu\n",
      "Commiting <class 'unis.models.models.Service'> ms_149-160-232-218.dhcp-bl.indiana.edu\n",
      "Commiting <class 'unis.models.models.Service'> ms_149-160-232-116.dhcp-bl.indiana.edu\n",
      "Commiting <class 'unis.models.models.Service'> ms_149-160-235-63.dhcp-bl.indiana.edu\n",
      "Commiting <class 'unis.models.models.Service'> ms_149-160-235-32.dhcp-bl.indiana.edu\n",
      "Commiting <class 'unis.models.models.Service'> ms_2001-18e8-2-28d9-f000-175.dhcp6-bl.indiana.edu\n"
     ]
    }
   ],
   "source": [
    "copy(sushivan, local)"
   ]
  },
  {
   "cell_type": "code",
   "execution_count": 9,
   "metadata": {
    "collapsed": false
   },
   "outputs": [],
   "source": []
  }
 ],
 "metadata": {
  "kernelspec": {
   "display_name": "Python 3",
   "language": "python",
   "name": "python3"
  },
  "language_info": {
   "codemirror_mode": {
    "name": "ipython",
    "version": 3
   },
   "file_extension": ".py",
   "mimetype": "text/x-python",
   "name": "python",
   "nbconvert_exporter": "python",
   "pygments_lexer": "ipython3",
   "version": "3.3.5"
  }
 },
 "nbformat": 4,
 "nbformat_minor": 0
}
