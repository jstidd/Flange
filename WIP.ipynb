{
 "cells": [
  {
   "cell_type": "code",
   "execution_count": 5,
   "metadata": {
    "collapsed": true
   },
   "outputs": [],
   "source": [
    "%load_ext autoreload\n",
    "%autoreload 1"
   ]
  },
  {
   "cell_type": "code",
   "execution_count": 12,
   "metadata": {
    "collapsed": false
   },
   "outputs": [],
   "source": [
    "%aimport flange\n",
    "import importlib\n",
    "import networkx as nx"
   ]
  },
  {
   "cell_type": "code",
   "execution_count": 21,
   "metadata": {
    "collapsed": false
   },
   "outputs": [],
   "source": [
    "class inside(flange.FlangeTree):\n",
    "    \"\"\"Given a graph and a selector, returns a list of links that make up the min cut\"\"\"\n",
    "    def __init__(self, selector):\n",
    "        self.selector=selector\n",
    "\n",
    "    def __call__(self, graph):\n",
    "        selector = lambda x: self.selector(x, graph)\n",
    "        nodes = list(filter(selector, graph.nodes())) ## TODO -- More complex query here\n",
    "        synth = graph.subgraph(nodes) ## Get the subgraph indicated by the selector\n",
    "        nx.set_edge_attributes(synth, 'capacity', 1)\n",
    "\n",
    "        print(\"all nodes\", nodes)\n",
    "        print(\"init synth nodes:\", synth.nodes())\n",
    "        print(\"init synth edges:\", synth.edges())\n",
    "        outbound = list(graph.out_edges_iter(nodes))\n",
    "        inbound = list(graph.in_edges_iter(nodes))\n",
    "        print(inbound)\n",
    "        print(outbound)\n",
    "\n",
    "        src = \"##SOURCE##\"\n",
    "        synth.add_node(src)\n",
    "        for edge in inbound:\n",
    "            if not synth.has_edge(*edge):\n",
    "                synth.add_edge(src, edge[1], capacity=10)\n",
    "\n",
    "        sink = \"##SINK##\"\n",
    "        synth.add_node(sink)\n",
    "        for edge in outbound:\n",
    "            if not synth.has_edge(*edge):\n",
    "                synth.add_edge(edge[0], sink, capacity=10)\n",
    "\n",
    "        print(\"synth edges:\", synth.edges())\n",
    "        cut_value, partition = nx.minimum_cut(synth, s=src, t=sink, capacity='capacity')\n",
    "        reachable, non_reachable = partition\n",
    "\n",
    "        cutset = set()\n",
    "        for u, nbrs in ((n, synth[n]) for n in reachable):\n",
    "            cutset.update((u, v) for v in nbrs if v in non_reachable)\n",
    "            cut_value == sum(synth.edge[u][v]['capacity'] for (u, v) in cutset)\n",
    "\n",
    "\n",
    "        return cutset"
   ]
  },
  {
   "cell_type": "code",
   "execution_count": 22,
   "metadata": {
    "collapsed": false
   },
   "outputs": [],
   "source": [
    "flange = importlib.reload(flange)"
   ]
  },
  {
   "cell_type": "code",
   "execution_count": 23,
   "metadata": {
    "collapsed": false
   },
   "outputs": [
    {
     "name": "stdout",
     "output_type": "stream",
     "text": [
      "all nodes ['port1']\n",
      "init synth nodes: ['port1']\n",
      "init synth edges: []\n",
      "[('port4', 'port1'), ('port2', 'port1')]\n",
      "[('port1', 'port4'), ('port1', 'port2')]\n",
      "synth edges: [('port1', '##SINK##'), ('##SOURCE##', 'port1')]\n"
     ]
    },
    {
     "data": {
      "text/plain": [
       "{('port1', '##SINK##')}"
      ]
     },
     "execution_count": 23,
     "metadata": {},
     "output_type": "execute_result"
    }
   ],
   "source": [
    "i = inside(lambda x,g: int(g.node[x][\"id\"][-1]) < 2)(flange.graph(\"ring\")())\n",
    "r = {(e[0], e[1]) for e in i}\n",
    "r"
   ]
  },
  {
   "cell_type": "code",
   "execution_count": 4,
   "metadata": {
    "collapsed": false
   },
   "outputs": [],
   "source": [
    "g = graph(\"ring\")()"
   ]
  },
  {
   "cell_type": "code",
   "execution_count": 5,
   "metadata": {
    "collapsed": false
   },
   "outputs": [
    {
     "data": {
      "text/plain": [
       "[('port1', 'port2'),\n",
       " ('port1', 'port4'),\n",
       " ('port2', 'port3'),\n",
       " ('port3', 'port4')]"
      ]
     },
     "execution_count": 5,
     "metadata": {},
     "output_type": "execute_result"
    }
   ],
   "source": [
    "g.edges()"
   ]
  },
  {
   "cell_type": "code",
   "execution_count": 4,
   "metadata": {
    "collapsed": false
   },
   "outputs": [
    {
     "data": {
      "text/plain": [
       "['ActionFailureError',\n",
       " 'FlangeTree',\n",
       " 'NoValidChoice',\n",
       " '__all__',\n",
       " '__builtins__',\n",
       " '__cached__',\n",
       " '__doc__',\n",
       " '__file__',\n",
       " '__loader__',\n",
       " '__name__',\n",
       " '__package__',\n",
       " '__path__',\n",
       " '__spec__',\n",
       " 'place',\n",
       " 'update']"
      ]
     },
     "execution_count": 4,
     "metadata": {},
     "output_type": "execute_result"
    }
   ],
   "source": [
    "dir(flange)"
   ]
  },
  {
   "cell_type": "code",
   "execution_count": null,
   "metadata": {
    "collapsed": true
   },
   "outputs": [],
   "source": []
  }
 ],
 "metadata": {
  "anaconda-cloud": {},
  "kernelspec": {
   "display_name": "Python [conda env:py35]",
   "language": "python",
   "name": "conda-env-py35-py"
  },
  "language_info": {
   "codemirror_mode": {
    "name": "ipython",
    "version": 3
   },
   "file_extension": ".py",
   "mimetype": "text/x-python",
   "name": "python",
   "nbconvert_exporter": "python",
   "pygments_lexer": "ipython3",
   "version": "3.5.2"
  }
 },
 "nbformat": 4,
 "nbformat_minor": 1
}
