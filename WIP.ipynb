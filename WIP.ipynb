{
 "cells": [
  {
   "cell_type": "code",
   "execution_count": 22,
   "metadata": {
    "collapsed": false
   },
   "outputs": [
    {
     "name": "stdout",
     "output_type": "stream",
     "text": [
      "The autoreload extension is already loaded. To reload it, use:\n",
      "  %reload_ext autoreload\n"
     ]
    }
   ],
   "source": [
    "%matplotlib inline\n",
    "%load_ext autoreload\n",
    "%autoreload 2"
   ]
  },
  {
   "cell_type": "code",
   "execution_count": 23,
   "metadata": {
    "collapsed": false
   },
   "outputs": [],
   "source": [
    "%aimport flange\n",
    "import importlib\n",
    "import networkx as nx"
   ]
  },
  {
   "cell_type": "code",
   "execution_count": 24,
   "metadata": {
    "collapsed": true
   },
   "outputs": [],
   "source": [
    "def draw(g):\n",
    "    pos=nx.spring_layout(g)\n",
    "    nx.draw(g, pos=pos)\n",
    "    nx.draw_networkx_labels(g, pos=pos)\n"
   ]
  },
  {
   "cell_type": "code",
   "execution_count": 25,
   "metadata": {
    "collapsed": false
   },
   "outputs": [],
   "source": [
    "class inside(flange.FlangeTree):\n",
    "    \"\"\"Given a graph and a selector, returns a list of links that make up the min cut\n",
    "    \n",
    "    TODO: Graph must have a clear \"side-id-ness\" to it to work...  \n",
    "          ###Source and ###Sink cannot both link to the same node.\n",
    "    \"\"\"\n",
    "    def __init__(self, selector):\n",
    "        self.selector=selector\n",
    "\n",
    "    def __call__(self, graph):\n",
    "        selector = lambda x: self.selector(x, graph)\n",
    "        nodes = list(filter(selector, graph.nodes())) ## TODO -- More complex query here\n",
    "        synth = graph.subgraph(nodes) ## Get the subgraph indicated by the selector\n",
    "        nx.set_edge_attributes(synth, 'capacity', 1)\n",
    "\n",
    "        print(\"all nodes\", nodes)\n",
    "        print(\"init synth nodes:\", synth.nodes())\n",
    "        print(\"init synth edges:\", synth.edges())\n",
    "        outbound = list(graph.out_edges_iter(nodes))\n",
    "        inbound = list(graph.in_edges_iter(nodes))\n",
    "        print(inbound)\n",
    "        print(outbound)\n",
    "\n",
    "        src = \"##SOURCE##\"\n",
    "        synth.add_node(src)\n",
    "        for edge in inbound:\n",
    "            if not synth.has_edge(*edge):\n",
    "                synth.add_edge(src, edge[1], capacity=10)\n",
    "\n",
    "        sink = \"##SINK##\"\n",
    "        synth.add_node(sink)\n",
    "        for edge in outbound:\n",
    "            if not synth.has_edge(*edge):\n",
    "                synth.add_edge(edge[0], sink, capacity=10)\n",
    "\n",
    "        draw(synth)\n",
    "        print(\"synth edges:\", synth.edges())\n",
    "        cut_value, partition = nx.minimum_cut(synth, s=src, t=sink, capacity='capacity')\n",
    "        reachable, non_reachable = partition\n",
    "\n",
    "        cutset = set()\n",
    "        for u, nbrs in ((n, synth[n]) for n in reachable):\n",
    "            cutset.update((u, v) for v in nbrs if v in non_reachable)\n",
    "            cut_value == sum(synth.edge[u][v]['capacity'] for (u, v) in cutset)\n",
    "\n",
    "\n",
    "        return cutset"
   ]
  },
  {
   "cell_type": "code",
   "execution_count": 29,
   "metadata": {
    "collapsed": false
   },
   "outputs": [
    {
     "name": "stdout",
     "output_type": "stream",
     "text": [
      "all nodes ['port2', 'port3', 'port1']\n",
      "init synth nodes: ['port2', 'port3', 'port1']\n",
      "init synth edges: [('port2', 'port3'), ('port1', 'port2')]\n",
      "[('port1', 'port2'), ('port2', 'port3'), ('port4', 'port1')]\n",
      "[('port2', 'port3'), ('port3', 'port4'), ('port1', 'port2')]\n",
      "synth edges: [('port2', 'port3'), ('port3', '##SINK##'), ('##SOURCE##', 'port1'), ('port1', 'port2')]\n"
     ]
    },
    {
     "data": {
      "text/plain": [
       "{('port2', 'port3')}"
      ]
     },
     "execution_count": 29,
     "metadata": {},
     "output_type": "execute_result"
    },
    {
     "data": {
      "image/png": "[encoded data removed]",
      "text/plain": [
       "<matplotlib.figure.Figure at 0x10da5a7b8>"
      ]
     },
     "metadata": {},
     "output_type": "display_data"
    }
   ],
   "source": [
    "i = inside(lambda x,g: int(g.node[x][\"id\"][-1]) < 4)(flange.graph(\"ring\")())\n",
    "r = {(e[0], e[1]) for e in i}\n",
    "r"
   ]
  },
  {
   "cell_type": "code",
   "execution_count": null,
   "metadata": {
    "collapsed": true
   },
   "outputs": [],
   "source": []
  }
 ],
 "metadata": {
  "anaconda-cloud": {},
  "kernelspec": {
   "display_name": "Python [conda env:flange]",
   "language": "python",
   "name": "conda-env-flange-py"
  },
  "language_info": {
   "codemirror_mode": {
    "name": "ipython",
    "version": 3
   },
   "file_extension": ".py",
   "mimetype": "text/x-python",
   "name": "python",
   "nbconvert_exporter": "python",
   "pygments_lexer": "ipython3",
   "version": "3.5.2"
  }
 },
 "nbformat": 4,
 "nbformat_minor": 1
}
